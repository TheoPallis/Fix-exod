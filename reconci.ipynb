{
 "cells": [
  {
   "cell_type": "code",
   "execution_count": 4,
   "metadata": {},
   "outputs": [],
   "source": [
    "# Imports\n",
    "\n",
    "production_dir = r\"\\\\lawoffice\\GSLODocuments\\LegalServices_Division\\01.Lawoffice_Common\\BUSINESS ANALYSTS\\PRODUCTION\"\n",
    "reg_amount = r'(\\b\\w+\\b.*?\\b\\w+\\b.*?) καθίσταται'\n",
    "reg_contract = r\"τη με αριθμό\\s+(\\w+) σύμβαση\"\n",
    "\n",
    "\n",
    "# pip install pydocx"
   ]
  },
  {
   "cell_type": "code",
   "execution_count": 5,
   "metadata": {},
   "outputs": [],
   "source": [
    "def extract_amount_contract(current_doc_string,reg_amount,reg_contract,file):\n",
    "    match = re.search(reg_amount, current_doc_string)\n",
    "    if match:\n",
    "        amount_string = ' '.join(match.group(1).split()[-30:])\n",
    "        #TODO split even further amount_string by placeholders\n",
    "    else:\n",
    "        amount_string = None\n",
    "    found_contract = re.findall(reg_contract, current_doc_string)[0]\n",
    "        \n",
    "    print(f\"                {found_contract}| {amount_string} | File | {file}\")\n",
    "import os\n",
    "import docx\n",
    "import re\n",
    "#test= os.path.join(production_dir, frontier_folders[0])\n"
   ]
  },
  {
   "cell_type": "code",
   "execution_count": 18,
   "metadata": {},
   "outputs": [
    {
     "name": "stdout",
     "output_type": "stream",
     "text": [
      "DoValue has 46 folders\n",
      "Non_Do_Value has 19 folders\n",
      "Rest has 17 folders\n"
     ]
    }
   ],
   "source": [
    "#80 non empty\n",
    "production_folders = non_empty_folders = [folder for folder in os.listdir(production_dir) if os.path.isdir(os.path.join(production_dir, folder)) and os.listdir(os.path.join(production_dir, folder))]\n",
    "\n",
    "non_frontier_folders = [folder for folder in production_folders if 'non' in folder.lower()]\n",
    "frontier_folders = [folder for folder in production_folders if 'frontier' in folder.lower() and 'non' not in folder.lower()]\n",
    "mirror_folders = [folder for folder in production_folders if 'mirror' in folder.lower()]\n",
    "erb_folders = [folder for folder in production_folders if 'erb' in folder.lower()]\n",
    "heliopolis_folders = [folder for folder in production_folders if 'heliopolis' in folder.lower()]    \n",
    "pillar_folders = [folder for folder in production_folders if 'pillar' in folder.lower()]\n",
    "rest_do_value_folders = ['DoValue 13_5_24', 'Recovery 17_10_23','ΕΞΩΔΙΚΑ ΜΕΤΕΞΕΛΙΞΗ 26_11']\n",
    "#46\n",
    "do_value_folders = non_frontier_folders + frontier_folders + mirror_folders + erb_folders + heliopolis_folders + pillar_folders + rest_do_value_folders\n",
    "\n",
    "\n",
    "qquant_folders=  [folder for folder in production_folders if 'quant' in folder.lower()] \n",
    "volton_folders = [folder for folder in production_folders if 'volton' in folder.lower()]\n",
    "intrum_folders = [folder for folder in production_folders if 'intrum' in folder.lower()]\n",
    "souq_folders = [folder for folder in production_folders if 'souq' in folder.lower()]\n",
    "earth_folders = [folder for folder in production_folders if 'earth' in folder.lower()]\n",
    "epitages_folders = [folder for folder in production_folders if 'επιτ' in folder.lower()]\n",
    "#19\n",
    "non_do_value_folders = qquant_folders + volton_folders + intrum_folders + souq_folders + earth_folders + epitages_folders\n",
    "\n",
    "#17\n",
    "rest_folders  =  [folder for folder in production_folders if folder not in (do_value_folders + non_do_value_folders)]\n",
    "\n",
    "total_folders_dict = {\n",
    "    \"DoValue\": do_value_folders,\n",
    "    \"Non_Do_Value\": non_do_value_folders,\n",
    "    \"Rest\": rest_folders\n",
    "}\n",
    "\n",
    "\n",
    "for anathesi,folder_list in total_folders_dict.items(): \n",
    "    print(f\"{anathesi} has {len(folder_list)} folders\")"
   ]
  },
  {
   "cell_type": "code",
   "execution_count": 23,
   "metadata": {},
   "outputs": [],
   "source": [
    "\n",
    "global_errors = {}\n",
    "\n",
    "def extract_data_from_spv_folders(folder_list,reg_amount,reg_contract,global_errors) :\n",
    "    file_dict = {}\n",
    "    for main_folder in folder_list :\n",
    "        print(f\"{main_folder}\")\n",
    "        for r,s,f in os.walk(test):\n",
    "            first_iteration = True\n",
    "            spv_folder = os.path.basename(r)\n",
    "            if first_iteration:\n",
    "                print(f\"    {spv_folder}\")\n",
    "            else  :\n",
    "                print(f\"        {spv_folder}\")\n",
    "            for file in f: \n",
    "                base_file = os.path.basename(file)\n",
    "                # if file != 'Cairo 1_1_002692019606119137_3.docx' :\n",
    "                # This will be removed = just to test a single file\n",
    "                    # continue\n",
    "                # elif file == 'Cairo 1_1_002692019606119137_3.docx' :\n",
    "                if not file.endswith('.db'):\n",
    "                    try:\n",
    "                        print(f\"            {base_file}\")\n",
    "                        current_doc = docx.Document(os.path.join(r, file))\n",
    "                        paragraph_text_list = [p.text for p in list(current_doc.paragraphs)]               \n",
    "                        current_doc_string = ''.join(str(x) for x in  paragraph_text_list)                            \n",
    "                        # Create a dictionary (keys = files, values = paragraph string format)\n",
    "                        file_dict[file] = current_doc_string\n",
    "                        extract_amount_contract(current_doc_string,reg_amount,reg_contract,file)\n",
    "                    except Exception as e:\n",
    "                        global_errors[file] = f\"Can not open {os.path.join(file)}  with error {e}\"\n",
    "                        print (\"                Can not open {file}\")\n",
    "            first_iteration = False\n"
   ]
  },
  {
   "cell_type": "code",
   "execution_count": 30,
   "metadata": {},
   "outputs": [],
   "source": [
    "folders_to_check = frontier_folders + non_frontier_folders\n",
    "# extract_data_from_spv_folders(folders_to_check,reg_amount,reg_contract,global_errors)"
   ]
  },
  {
   "cell_type": "code",
   "execution_count": 24,
   "metadata": {},
   "outputs": [],
   "source": [
    "# file_dict = {}\n",
    "# reg_amount = r'(\\b\\w+\\b.*?\\b\\w+\\b.*?) καθίσταται'\n",
    "# reg_contract = r\"τη με αριθμό\\s+(\\w+) σύμβαση\"\n",
    "# global_errors = {}\n",
    "\n",
    "# for main_folder in non_frontier_folders :\n",
    "#     print(f\"{main_folder}\")\n",
    "#     for r,s,f in os.walk(test):\n",
    "#         first_iteration = True\n",
    "#         spv_folder = os.path.basename(r)\n",
    "#         if first_iteration:\n",
    "#             print(f\"    {spv_folder}\")\n",
    "#         else  :\n",
    "#             print(f\"        {spv_folder}\")\n",
    "#         for file in f: \n",
    "#             base_file = os.path.basename(file)\n",
    "#             # if file != 'Cairo 1_1_002692019606119137_3.docx' :\n",
    "#             # This will be removed = just to test a single file\n",
    "#                 # continue\n",
    "#             # elif file == 'Cairo 1_1_002692019606119137_3.docx' :\n",
    "#             if not file.endswith('.db'):\n",
    "#                 try:\n",
    "#                     print(f\"            {base_file}\")\n",
    "#                     current_doc = docx.Document(os.path.join(r, file))\n",
    "#                     paragraph_text_list = [p.text for p in list(current_doc.paragraphs)]               \n",
    "#                     current_doc_string = ''.join(str(x) for x in  paragraph_text_list)                            \n",
    "#                     # Create a dictionary (keys = files, values = paragraph string format)\n",
    "#                     file_dict[file] = current_doc_string\n",
    "#                     extract_amount_contract(current_doc_string,reg_amount,reg_contract,file)\n",
    "#                 except Exception as e:\n",
    "#                     global_errors[file] = f\"Can not open {os.path.join(file)}  with error {e}\"\n",
    "#                     print (\"                Can not open {file}\")\n",
    "#         first_iteration = False\n"
   ]
  }
 ],
 "metadata": {
  "kernelspec": {
   "display_name": "Python 3",
   "language": "python",
   "name": "python3"
  },
  "language_info": {
   "codemirror_mode": {
    "name": "ipython",
    "version": 3
   },
   "file_extension": ".py",
   "mimetype": "text/x-python",
   "name": "python",
   "nbconvert_exporter": "python",
   "pygments_lexer": "ipython3",
   "version": "3.11.5"
  }
 },
 "nbformat": 4,
 "nbformat_minor": 2
}
