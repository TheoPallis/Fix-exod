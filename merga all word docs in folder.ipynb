{
 "cells": [
  {
   "cell_type": "code",
   "execution_count": null,
   "metadata": {},
   "outputs": [],
   "source": [
    "# Definitions\n",
    "from codes.exod_functions import (merge_all_files_in_filtered_folder)\n",
    "from codes.exod_ds import production_folders\n",
    "def docstring() :\n",
    "    pass\n",
    "    # 1. Functions\n",
    "    #     1. clean_amount\n",
    "    #     2. extract_amount\n",
    "    #     3. indent_item\n",
    "    #     4. read_document\n",
    "    #     5. find_non_word_document_types\n",
    "    #     6. merged_document\n",
    "    #     7. read_all_files\n",
    "    #     8. merge_all_files_in_filtered_folder\n",
    "\n",
    "    # 2. Regular Expressions\n",
    "    #     1. reg_amount = r'(\\b\\w+\\b.*?\\b\\w+\\b.*?) καθίσταται'\n",
    "    #     2. reg_contract = r\"τη με αριθμό\\s+(\\w+)\\s+σύμβαση|Σύμβαση\"\n",
    "\n",
    "    # 3. Dictionaries\n",
    "    #     1. global_errors = {}\n",
    "    #     2. contents_dict = {}\n",
    "    #     3. amounts_dict = {}\n",
    "    #     4. errors_dict = defaultdict(lambda: init_list)\n",
    "\n",
    "    # 4. Lists\n",
    "    #     1. non_found = []\n",
    "    #     2. errors = []\n",
    "    #     3. non_docs = []\n",
    "    #     4. init_list = create_lists(4)\n",
    "    #     5. non_word_document_types = ['docx','doc','odt','odf','xls', 'xlsx', 'db', 'pdf','ink','tmp','lnk']\n",
    "\n",
    "    # 5. Folder Lists\n",
    "    #     1. production_dir = r\"C:\\Users\\pallist\\Desktop\\ΤΡΕΧΟΝΤΑ\\1) Projects\\Fix exodika\\PRODUCTION - 11_6_ bup\"\n",
    "    #     2. first_level_folders = [folder for folder in next(os.walk(production_dir))[1]]\n",
    "    #     3. production_folders = [folder for folder in os.listdir(production_dir) if os.path.isdir(os.path.join(production_dir, folder)) and os.listdir(os.path.join(production_dir, folder))]\n",
    "    #     4. non_frontier_folders = [folder for folder in production_folders if 'non' in folder.lower()]\n",
    "    #     5. frontier_folders = [folder for folder in production_folders if 'frontier' in folder.lower() and 'non' not in folder.lower()]\n",
    "    #     6. mirror_folders = [folder for folder in production_folders if 'mirror' in folder.lower()]\n",
    "    #     7. erb_folders = [folder for folder in production_folders if 'erb' in folder.lower()]\n",
    "    #     8. heliopolis_folders = [folder for folder in production_folders if 'heliopolis' in folder.lower()]\n",
    "    #     9. pillar_folders = [folder for folder in production_folders if 'pillar' in folder.lower()]\n",
    "    #     10. rest_do_value_folders = ['DoValue 13_5_24', 'Recovery 17_10_23','ΕΞΩΔΙΚΑ ΜΕΤΕΞΕΛΙΞΗ 26_11']\n",
    "\n",
    "    # 6. Variables\n",
    "    #     1. error_counter = 0\n"
   ]
  },
  {
   "cell_type": "code",
   "execution_count": null,
   "metadata": {},
   "outputs": [],
   "source": [
    "merge_all_files_in_filtered_folder(production_folders,'Frontier 4_6_24')"
   ]
  },
  {
   "cell_type": "code",
   "execution_count": null,
   "metadata": {},
   "outputs": [],
   "source": []
  }
 ],
 "metadata": {
  "kernelspec": {
   "display_name": "Python 3",
   "language": "python",
   "name": "python3"
  },
  "language_info": {
   "codemirror_mode": {
    "name": "ipython",
    "version": 3
   },
   "file_extension": ".py",
   "mimetype": "text/x-python",
   "name": "python",
   "nbconvert_exporter": "python",
   "pygments_lexer": "ipython3",
   "version": "3.11.5"
  }
 },
 "nbformat": 4,
 "nbformat_minor": 2
}
